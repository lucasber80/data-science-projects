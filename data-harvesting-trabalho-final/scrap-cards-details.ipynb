{
 "cells": [
  {
   "cell_type": "code",
   "execution_count": 1,
   "metadata": {},
   "outputs": [],
   "source": [
    "from selenium import webdriver\n",
    "from selenium.webdriver.common.by import By\n",
    "from selenium.webdriver.chrome.service import Service\n",
    "from selenium.webdriver.chrome.options import Options\n",
    "from webdriver_manager.chrome import ChromeDriverManager\n",
    "from selenium.webdriver.support.ui import WebDriverWait\n",
    "from selenium.webdriver.support import expected_conditions as EC\n",
    "from webdriver_manager.chrome import ChromeDriverManager\n",
    "import pandas as pd"
   ]
  },
  {
   "cell_type": "code",
   "execution_count": 2,
   "metadata": {},
   "outputs": [],
   "source": [
    "base_url = 'https://www.torrentjogos.com.br'"
   ]
  },
  {
   "cell_type": "code",
   "execution_count": 3,
   "metadata": {},
   "outputs": [],
   "source": [
    "def get_game_details(url):\n",
    "    # Configuração do driver do Chrome\n",
    "    chrome_options = Options()\n",
    "    chrome_options.add_argument(\"--headless\")  # Caso queira rodar em modo headless\n",
    "    chrome_options.add_argument(\"--no-sandbox\")\n",
    "    chrome_options.add_argument(\"--disable-dev-shm-usage\")\n",
    "    \n",
    "    # Inicialização do WebDriver\n",
    "    driver = webdriver.Chrome(service=Service(ChromeDriverManager().install()), options=chrome_options)\n",
    "\n",
    "    url_completed = base_url + url\n",
    "    # Acessa a página\n",
    "    \n",
    "\n",
    "    try:\n",
    "        driver.get(url_completed)\n",
    "        # Espera o elemento de descrição estar presente\n",
    "        game_desc_element = WebDriverWait(driver, 10).until(\n",
    "            EC.presence_of_element_located((By.CSS_SELECTOR, \".PageGame_desc__AjwkG\"))\n",
    "        )\n",
    "\n",
    "        # Pegando a sinopse do jogo\n",
    "        game_description = game_desc_element.text\n",
    "\n",
    "        game_minimum_requiriments_element = WebDriverWait(driver, 10).until(\n",
    "            EC.presence_of_element_located((By.CSS_SELECTOR, \".PageGame_minimum__D2ve3\"))\n",
    "        )\n",
    "\n",
    "        # Pegando a sinopse do jogo\n",
    "        game_minimum_requiriments = game_minimum_requiriments_element.text\n",
    "\n",
    "\n",
    "        game_req_requiriments_element = WebDriverWait(driver, 10).until(\n",
    "            EC.presence_of_element_located((By.CSS_SELECTOR, \".PageGame_minimum__D2ve3\"))\n",
    "        )\n",
    "\n",
    "        # Pegando a sinopse do jogo\n",
    "        game_req_requiriments = game_req_requiriments_element.text\n",
    "        \n",
    "\n",
    "        # Espera o elemento de categorias estar presente\n",
    "        genre_elements = WebDriverWait(driver, 10).until(\n",
    "            EC.presence_of_all_elements_located((By.CSS_SELECTOR, \".PageGame_genreItem__JyyVV\"))\n",
    "        )\n",
    "\n",
    "        # Pegando as categorias\n",
    "        categories = [genre.text for genre in genre_elements]\n",
    "\n",
    "        # Pegando o magnetic link (torrent)\n",
    "        magnet_element = WebDriverWait(driver, 10).until(\n",
    "            EC.presence_of_element_located((By.CSS_SELECTOR, \".PageGame_infodownloadinfo__Ft_UD a\"))\n",
    "        )\n",
    "\n",
    "        magnet_link = magnet_element.get_attribute('href')\n",
    "\n",
    "        iframe_element = driver.find_element(By.CLASS_NAME, \"PageGame_videoFrame__XLjMv\")\n",
    "\n",
    "        # Alternar para o iframe\n",
    "        driver.switch_to.frame(iframe_element)\n",
    "\n",
    "        # Agora que estamos dentro do iframe, podemos capturar o atributo 'src'\n",
    "        trailer_src = driver.current_url  # Isso vai retornar o URL do conteúdo dentro do iframe\n",
    "\n",
    "        # Volte para o contexto principal (fora do iframe)\n",
    "        driver.switch_to.default_content()\n",
    "\n",
    "        # Espera até que a imagem esteja presente na página\n",
    "        image_elements = driver.find_elements(By.CLASS_NAME, 'PageGame_modal_image__epuHK')\n",
    "\n",
    "        images_src = [image.get_attribute('src') for image in image_elements]\n",
    "\n",
    "        div_elements = driver.find_elements(By.CLASS_NAME, 'PageGame_iframeSteam__NgF1A')\n",
    "\n",
    "        # Verifica se a lista de elementos encontrados não está vazia\n",
    "        if div_elements:\n",
    "            # Dentro da primeira div encontrada, localiza o iframe e pega o atributo 'src'\n",
    "            iframe_shop_src_element = div_elements[0].find_element(By.TAG_NAME, 'iframe')\n",
    "            shop_src = iframe_shop_src_element.get_attribute('src')\n",
    "        else:\n",
    "            # Caso a classe não seja encontrada, define um valor padrão para 'shop_src'\n",
    "            shop_src = None \n",
    "\n",
    "        # Retorna os dados em um dicionário\n",
    "        game_details = {\n",
    "            \"link\": url,\n",
    "            \"shop_src\":shop_src,\n",
    "            \"images_src\":images_src,\n",
    "            \"description\": game_description,\n",
    "            \"categories\": categories,\n",
    "            \"magnet_link\": magnet_link,\n",
    "            \"trailer_src\": trailer_src,\n",
    "            \"game_minimum_requiriments\":game_minimum_requiriments,\n",
    "            \"game_req_requiriments\":game_req_requiriments,\n",
    "        }\n",
    "\n",
    "        return game_details\n",
    "\n",
    "    except Exception as e:\n",
    "        print(f\"no link: {url}\")\n",
    "        print(f\"Ocorreu um erro: {e}\")\n",
    "        return None\n",
    "    finally:\n",
    "        # Fecha o navegador\n",
    "        driver.quit()\n",
    "\n",
    "# Executando a função\n",
    "# game_details = get_game_details('/World-War-Z-Aftermath')\n",
    "# if game_details:\n",
    "#     print(game_details)"
   ]
  },
  {
   "cell_type": "code",
   "execution_count": 4,
   "metadata": {},
   "outputs": [
    {
     "name": "stdout",
     "output_type": "stream",
     "text": [
      "<class 'pandas.core.frame.DataFrame'>\n",
      "RangeIndex: 18 entries, 0 to 17\n",
      "Data columns (total 6 columns):\n",
      " #   Column     Non-Null Count  Dtype \n",
      "---  ------     --------------  ----- \n",
      " 0   title      18 non-null     object\n",
      " 1   link       18 non-null     object\n",
      " 2   date       18 non-null     object\n",
      " 3   size       18 non-null     object\n",
      " 4   source     18 non-null     object\n",
      " 5   image_url  18 non-null     object\n",
      "dtypes: object(6)\n",
      "memory usage: 992.0+ bytes\n"
     ]
    }
   ],
   "source": [
    "cards = pd.read_excel('dados-jogos.xlsx')\n",
    "cards.info()"
   ]
  },
  {
   "cell_type": "code",
   "execution_count": 5,
   "metadata": {},
   "outputs": [
    {
     "name": "stdout",
     "output_type": "stream",
     "text": [
      "1\n",
      "2\n",
      "3\n",
      "4\n",
      "5\n",
      "6\n",
      "7\n",
      "8\n",
      "9\n",
      "10\n",
      "11\n",
      "12\n",
      "13\n",
      "14\n",
      "15\n",
      "16\n",
      "17\n",
      "18\n"
     ]
    }
   ],
   "source": [
    "cards_details = []\n",
    "cards_aux = cards\n",
    "for idx,link in enumerate(cards_aux['link'],1):\n",
    "    cards_details.append(get_game_details(link))\n",
    "    print(idx)\n",
    "\n",
    "cards_details = [item for item in cards_details if item is not None]"
   ]
  },
  {
   "cell_type": "code",
   "execution_count": 6,
   "metadata": {},
   "outputs": [],
   "source": [
    "#df_cards_details_old = pd.read_excel('dados-jogos-details.xlsx')\n",
    "df_cards_details = pd.DataFrame(cards_details)\n",
    "df_combined = df_cards_details"
   ]
  },
  {
   "cell_type": "code",
   "execution_count": 7,
   "metadata": {},
   "outputs": [
    {
     "name": "stdout",
     "output_type": "stream",
     "text": [
      "<class 'pandas.core.frame.DataFrame'>\n",
      "RangeIndex: 18 entries, 0 to 17\n",
      "Data columns (total 9 columns):\n",
      " #   Column                     Non-Null Count  Dtype \n",
      "---  ------                     --------------  ----- \n",
      " 0   link                       18 non-null     object\n",
      " 1   shop_src                   16 non-null     object\n",
      " 2   images_src                 18 non-null     object\n",
      " 3   description                18 non-null     object\n",
      " 4   categories                 18 non-null     object\n",
      " 5   magnet_link                18 non-null     object\n",
      " 6   trailer_src                18 non-null     object\n",
      " 7   game_minimum_requiriments  18 non-null     object\n",
      " 8   game_req_requiriments      18 non-null     object\n",
      "dtypes: object(9)\n",
      "memory usage: 1.4+ KB\n"
     ]
    }
   ],
   "source": [
    "df_combined.info()"
   ]
  },
  {
   "cell_type": "code",
   "execution_count": 8,
   "metadata": {},
   "outputs": [
    {
     "name": "stdout",
     "output_type": "stream",
     "text": [
      "<class 'pandas.core.frame.DataFrame'>\n",
      "RangeIndex: 18 entries, 0 to 17\n",
      "Data columns (total 9 columns):\n",
      " #   Column                     Non-Null Count  Dtype \n",
      "---  ------                     --------------  ----- \n",
      " 0   link                       18 non-null     object\n",
      " 1   shop_src                   16 non-null     object\n",
      " 2   images_src                 18 non-null     object\n",
      " 3   description                18 non-null     object\n",
      " 4   categories                 18 non-null     object\n",
      " 5   magnet_link                18 non-null     object\n",
      " 6   trailer_src                18 non-null     object\n",
      " 7   game_minimum_requiriments  18 non-null     object\n",
      " 8   game_req_requiriments      18 non-null     object\n",
      "dtypes: object(9)\n",
      "memory usage: 1.4+ KB\n"
     ]
    }
   ],
   "source": [
    "df_cards_details.info()"
   ]
  },
  {
   "cell_type": "code",
   "execution_count": 9,
   "metadata": {},
   "outputs": [],
   "source": [
    "df_combined.to_excel('dados-jogos-details.xlsx', index=False)"
   ]
  }
 ],
 "metadata": {
  "kernelspec": {
   "display_name": "Python 3",
   "language": "python",
   "name": "python3"
  },
  "language_info": {
   "codemirror_mode": {
    "name": "ipython",
    "version": 3
   },
   "file_extension": ".py",
   "mimetype": "text/x-python",
   "name": "python",
   "nbconvert_exporter": "python",
   "pygments_lexer": "ipython3",
   "version": "3.10.0"
  }
 },
 "nbformat": 4,
 "nbformat_minor": 2
}
