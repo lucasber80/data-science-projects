{
 "cells": [
  {
   "cell_type": "code",
   "execution_count": 8,
   "metadata": {},
   "outputs": [],
   "source": [
    "import requests\n",
    "from bs4 import BeautifulSoup\n",
    "import pandas as pd"
   ]
  },
  {
   "cell_type": "code",
   "execution_count": 9,
   "metadata": {},
   "outputs": [],
   "source": [
    "base_url = 'https://www.torrentjogos.com.br'"
   ]
  },
  {
   "cell_type": "code",
   "execution_count": 10,
   "metadata": {},
   "outputs": [],
   "source": [
    "def retornar_cards(page):\n",
    "    # Fazendo a requisição HTTP para obter o conteúdo da página\n",
    "    \n",
    "    url_req = base_url + '/games?page='+ str(page)\n",
    "    print(url_req)\n",
    "    response = requests.get(url_req)\n",
    "    # Verificando se a requisição foi bem-sucedida\n",
    "    if response.status_code != 200:\n",
    "        print(f'Erro ao acessar a página. Status code: {response.status_code}')\n",
    "        return []\n",
    "\n",
    "    # Parseando o conteúdo HTML da página com BeautifulSoup\n",
    "    soup = BeautifulSoup(response.text, 'html.parser')\n",
    "\n",
    "    # Encontrando todas as divs com a classe específica\n",
    "    game_cards = soup.find_all('div', class_='GameCard_game-card-container__J8073')\n",
    "\n",
    "    # Lista para armazenar os dados dos cards\n",
    "    cards_data = []\n",
    "\n",
    "    # Iterando sobre as divs encontradas para extrair as informações\n",
    "    for card in game_cards:\n",
    "        # Extraindo as informações de cada card\n",
    "        link = card.find('a', class_='GameCard_game-card__link__OrN3z')['href']\n",
    "        title = card.find('h2', class_='GameCard_game-card__title__YgHXL').get_text()\n",
    "        date = card.find('p', class_='GameCard_game-card__date__h3xfx').get_text(strip=True)\n",
    "        size = card.find('span', class_='GameCard_game-card__tag__bI_zw').get_text(strip=True)\n",
    "        source = card.find_all('span', class_='GameCard_game-card__tag__bI_zw')[1].get_text(strip=True)\n",
    "        image_url = card.find('img')['src']\n",
    "\n",
    "        # Adicionando os dados do card ao objeto\n",
    "        card_info = {\n",
    "            'title': title,\n",
    "            'link': link,\n",
    "            'date': date,\n",
    "            'size': size,\n",
    "            'source': source,\n",
    "            'image_url': image_url\n",
    "        }\n",
    "\n",
    "        # Adicionando o card_info à lista\n",
    "        cards_data.append(card_info)\n",
    "\n",
    "    # Retornando a lista com os dados de todos os cards\n",
    "    return cards_data"
   ]
  },
  {
   "cell_type": "code",
   "execution_count": 11,
   "metadata": {},
   "outputs": [
    {
     "name": "stdout",
     "output_type": "stream",
     "text": [
      "https://www.torrentjogos.com.br/games?page=1\n"
     ]
    }
   ],
   "source": [
    "pages = 1\n",
    "cards = []\n",
    "cards_details = []\n",
    "for page in range(1,pages+1):\n",
    "    cards = cards + retornar_cards(page)"
   ]
  },
  {
   "cell_type": "code",
   "execution_count": 12,
   "metadata": {},
   "outputs": [],
   "source": [
    "df_cards = pd.DataFrame(cards)"
   ]
  },
  {
   "cell_type": "code",
   "execution_count": 13,
   "metadata": {},
   "outputs": [
    {
     "name": "stdout",
     "output_type": "stream",
     "text": [
      "<class 'pandas.core.frame.DataFrame'>\n",
      "RangeIndex: 18 entries, 0 to 17\n",
      "Data columns (total 6 columns):\n",
      " #   Column     Non-Null Count  Dtype \n",
      "---  ------     --------------  ----- \n",
      " 0   title      18 non-null     object\n",
      " 1   link       18 non-null     object\n",
      " 2   date       18 non-null     object\n",
      " 3   size       18 non-null     object\n",
      " 4   source     18 non-null     object\n",
      " 5   image_url  18 non-null     object\n",
      "dtypes: object(6)\n",
      "memory usage: 992.0+ bytes\n"
     ]
    }
   ],
   "source": [
    "df_cards.info()"
   ]
  },
  {
   "cell_type": "code",
   "execution_count": 14,
   "metadata": {},
   "outputs": [],
   "source": [
    "df_cards.to_excel('dados-jogos.xlsx', index=False)"
   ]
  }
 ],
 "metadata": {
  "kernelspec": {
   "display_name": "Python 3",
   "language": "python",
   "name": "python3"
  },
  "language_info": {
   "codemirror_mode": {
    "name": "ipython",
    "version": 3
   },
   "file_extension": ".py",
   "mimetype": "text/x-python",
   "name": "python",
   "nbconvert_exporter": "python",
   "pygments_lexer": "ipython3",
   "version": "3.10.0"
  }
 },
 "nbformat": 4,
 "nbformat_minor": 2
}
